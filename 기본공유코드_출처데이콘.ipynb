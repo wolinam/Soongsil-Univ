{
 "cells": [
  {
   "cell_type": "markdown",
   "metadata": {},
   "source": [
    "### Python import"
   ]
  },
  {
   "cell_type": "code",
   "execution_count": 1,
   "metadata": {
    "colab": {},
    "colab_type": "code",
    "id": "M5NV31m1oSFP",
    "scrolled": true
   },
   "outputs": [],
   "source": [
    "import librosa\n",
    "from tqdm import tqdm_notebook as tqdm\n",
    "import os\n",
    "import os.path as pth\n",
    "import pandas as pd\n",
    "import numpy as np\n",
    "import matplotlib.pyplot as plt\n",
    "import scipy\n",
    "import tensorflow as tf\n",
    "# import keras\n",
    "from glob import glob\n",
    "from scipy.io import wavfile"
   ]
  },
  {
   "cell_type": "code",
   "execution_count": 2,
   "metadata": {},
   "outputs": [],
   "source": [
    "import sklearn\n",
    "from sklearn.metrics import f1_score\n",
    "from sklearn.utils import shuffle\n",
    "from sklearn.preprocessing import maxabs_scale"
   ]
  },
  {
   "cell_type": "code",
   "execution_count": 3,
   "metadata": {},
   "outputs": [],
   "source": [
    "import tensorflow.keras as keras\n",
    "from tensorflow.keras.layers import Input,InputLayer, Dense, Activation, \\\n",
    "                                    BatchNormalization, Flatten, Conv1D\n",
    "from tensorflow.keras.layers import MaxPooling1D, Dropout\n",
    "from tensorflow.keras.models import Sequential, Model, load_model\n",
    "from tensorflow.keras.optimizers import SGD, Adam\n",
    "from tensorflow.keras.callbacks import ModelCheckpoint,LearningRateScheduler, \\\n",
    "                                        EarlyStopping\n",
    "from tensorflow.keras import backend as K\n",
    "from tensorflow.keras.utils import to_categorical\n",
    "from tensorflow.keras.utils import multi_gpu_model\n",
    "from tensorflow.keras.layers import (Conv1D, MaxPool1D, BatchNormalization, \n",
    "                                     GlobalAvgPool1D, Multiply, GlobalMaxPool1D,\n",
    "                                     Dense, Dropout, Activation, Reshape, \n",
    "                                     Input, Concatenate, Add)\n",
    "from tensorflow.keras.regularizers import l2\n",
    "from tensorflow.keras.models import Model"
   ]
  },
  {
   "cell_type": "code",
   "execution_count": 4,
   "metadata": {},
   "outputs": [],
   "source": [
    "from IPython.display import clear_output"
   ]
  },
  {
   "cell_type": "code",
   "execution_count": 5,
   "metadata": {},
   "outputs": [],
   "source": [
    "plt.rcParams.update({'font.size': 16})"
   ]
  },
  {
   "cell_type": "code",
   "execution_count": 6,
   "metadata": {},
   "outputs": [],
   "source": [
    "# os.environ['CUDA_VISIBLE_DEVICES'] = str(config['gpu_num'])\n",
    "os.environ['CUDA_VISIBLE_DEVICES'] = str(5)\n",
    "os.environ['HDF5_USE_FILE_LOCKING'] = 'FALSE'"
   ]
  },
  {
   "cell_type": "code",
   "execution_count": 7,
   "metadata": {},
   "outputs": [],
   "source": [
    "model_name = 'baseline_sampleCNN-original'"
   ]
  },
  {
   "cell_type": "code",
   "execution_count": 8,
   "metadata": {},
   "outputs": [],
   "source": [
    "model_path = 'model/'\n",
    "if not os.path.exists(model_path):\n",
    "    os.mkdir(model_path)"
   ]
  },
  {
   "cell_type": "code",
   "execution_count": 9,
   "metadata": {},
   "outputs": [
    {
     "name": "stdout",
     "output_type": "stream",
     "text": [
      "Pandas: 0.25.3\n",
      "Numpy: 1.18.1\n",
      "Scipy: 1.4.1\n",
      "Tensorflow: 2.1.0\n",
      "Keras: 2.2.4-tf\n"
     ]
    }
   ],
   "source": [
    "print('Pandas: %s'%(pd.__version__))\n",
    "print('Numpy: %s'%(np.__version__))\n",
    "print('Scipy: %s'%(scipy.__version__))\n",
    "print('Tensorflow: %s'%(tf.__version__))\n",
    "print('Keras: %s'%(keras.__version__))"
   ]
  },
  {
   "cell_type": "markdown",
   "metadata": {},
   "source": [
    "### Load Data"
   ]
  },
  {
   "cell_type": "code",
   "execution_count": 10,
   "metadata": {},
   "outputs": [],
   "source": [
    "# wav 파일로부터 데이터를 불러오는 함수, 파일 경로를 리스트 형태로 입력\n",
    "def data_loader(files):\n",
    "    out = []\n",
    "    for file in tqdm(files):\n",
    "        fs, data = wavfile.read(file)\n",
    "        out.append(data)    \n",
    "    out = np.array(out)\n",
    "    return out"
   ]
  },
  {
   "cell_type": "code",
   "execution_count": 11,
   "metadata": {},
   "outputs": [
    {
     "name": "stderr",
     "output_type": "stream",
     "text": [
      "/usr/local/lib/python3.6/dist-packages/ipykernel_launcher.py:4: TqdmDeprecationWarning: This function will be removed in tqdm==5.0.0\n",
      "Please use `tqdm.notebook.tqdm` instead of `tqdm.tqdm_notebook`\n",
      "  after removing the cwd from sys.path.\n"
     ]
    },
    {
     "data": {
      "application/vnd.jupyter.widget-view+json": {
       "model_id": "ddb68b89c995496b9485a25988dfa6e4",
       "version_major": 2,
       "version_minor": 0
      },
      "text/plain": [
       "HBox(children=(FloatProgress(value=0.0, max=100000.0), HTML(value='')))"
      ]
     },
     "metadata": {},
     "output_type": "display_data"
    },
    {
     "name": "stdout",
     "output_type": "stream",
     "text": [
      "\n"
     ]
    },
    {
     "data": {
      "text/plain": [
       "((100000, 16000, 1), (100000, 30))"
      ]
     },
     "execution_count": 11,
     "metadata": {},
     "output_type": "execute_result"
    }
   ],
   "source": [
    "# Wav 파일로부터 Feature를 만듭니다.\n",
    "x_data = glob('data/train/*.wav')\n",
    "x_data = data_loader(x_data)\n",
    "x_data = np.asarray([wav/wav.max() for wav in x_data]) # 최대값을 나누어 데이터 정규화\n",
    "x_data = x_data.reshape(x_data.shape[0], x_data.shape[1], 1) # CNN 모델에 넣기 위한 데이터 shape 변경\n",
    "\n",
    "# 정답 값을 불러옵니다\n",
    "y_data = pd.read_csv('data/train_answer.csv', index_col=0)\n",
    "y_labels = y_data.columns.values\n",
    "y_data = y_data.values\n",
    "\n",
    "# Feature, Label Shape을 확인합니다.\n",
    "x_data.shape, y_data.shape"
   ]
  },
  {
   "cell_type": "markdown",
   "metadata": {},
   "source": [
    "### Training"
   ]
  },
  {
   "cell_type": "code",
   "execution_count": 12,
   "metadata": {},
   "outputs": [],
   "source": [
    "input_shape = (x_data.shape[1], x_data.shape[2])\n",
    "output_size = len(y_labels)"
   ]
  },
  {
   "cell_type": "code",
   "execution_count": 13,
   "metadata": {},
   "outputs": [],
   "source": [
    "def build_cnn(input_shape, drop_rate=0.5, output_size=16):\n",
    "    model=Sequential()\n",
    "    \n",
    "    # Layer 1\n",
    "    model.add(Conv1D (kernel_size=3, filters=128, strides=3, padding='valid',\n",
    "                      kernel_initializer='he_uniform', input_shape=input_shape))                  \n",
    "    model.add(BatchNormalization())\n",
    "    model.add(Activation('relu'))\n",
    "\n",
    "    # Layer 2\n",
    "    model.add(Conv1D (kernel_size=3, filters=128, padding='same', kernel_initializer='he_uniform'))\n",
    "    model.add(BatchNormalization())\n",
    "    model.add(Activation('relu'))\n",
    "    model.add(MaxPooling1D(pool_size=3, strides=3))\n",
    "\n",
    "    # Layer 3\n",
    "    model.add(Conv1D (kernel_size=3, filters=128, padding='same', kernel_initializer='he_uniform'))\n",
    "    model.add(BatchNormalization())\n",
    "    model.add(Activation('relu'))\n",
    "    model.add(MaxPooling1D(pool_size=3, strides=3))\n",
    "\n",
    "    # Layer 4\n",
    "    model.add(Conv1D (kernel_size=3, filters=256, padding='same', kernel_initializer='he_uniform'))\n",
    "    model.add(BatchNormalization())\n",
    "    model.add(Activation('relu'))\n",
    "    model.add(MaxPooling1D(pool_size=3, strides=3))\n",
    "\n",
    "    # Layer 5\n",
    "    model.add(Conv1D (kernel_size=3, filters=256, padding='same', kernel_initializer='he_uniform'))\n",
    "    model.add(BatchNormalization())\n",
    "    model.add(Activation('relu'))\n",
    "    model.add(MaxPooling1D(pool_size=3, strides=3))\n",
    "\n",
    "    # Layer 6\n",
    "    model.add(Conv1D (kernel_size=3, filters=256, padding='same', kernel_initializer='he_uniform'))\n",
    "    model.add(BatchNormalization())\n",
    "    model.add(Activation('relu'))\n",
    "    model.add(MaxPooling1D(pool_size=3, strides=3))\n",
    "\n",
    "    # Layer 7\n",
    "    model.add(Conv1D (kernel_size=3, filters=256, padding='same', kernel_initializer='he_uniform'))\n",
    "    model.add(BatchNormalization())\n",
    "    model.add(Activation('relu'))\n",
    "    model.add(MaxPooling1D(pool_size=3, strides=3))\n",
    "\n",
    "    # Layer 8\n",
    "    model.add(Conv1D (kernel_size=3, filters=256, padding='same', kernel_initializer='he_uniform'))\n",
    "    model.add(BatchNormalization())\n",
    "    model.add(Activation('relu'))\n",
    "    model.add(MaxPooling1D(pool_size=3, strides=3))\n",
    "\n",
    "    # # Layer 9\n",
    "    # model.add(Conv1D (kernel_size=3, filters=256, padding='same', kernel_initializer='he_uniform'))\n",
    "    # model.add(BatchNormalization())\n",
    "    # model.add(Activation('relu'))\n",
    "    # model.add(MaxPooling1D(pool_size=3, strides=3))\n",
    "\n",
    "    # # Layer 10\n",
    "    # model.add(Conv1D (kernel_size=3, filters=512, padding='same', kernel_initializer='he_uniform'))\n",
    "    # model.add(BatchNormalization())\n",
    "    # model.add(Activation('relu'))\n",
    "    # model.add(MaxPooling1D(pool_size=3, strides=3))\n",
    "\n",
    "    # Layer 11\n",
    "    model.add(Dropout(drop_rate))\n",
    "    model.add(Flatten())\n",
    "\n",
    "    # Layer 12\n",
    "    model.add(Dense(output_size))\n",
    "    model.add(Activation('softmax'))\n",
    "    return model"
   ]
  },
  {
   "cell_type": "code",
   "execution_count": 14,
   "metadata": {},
   "outputs": [
    {
     "name": "stdout",
     "output_type": "stream",
     "text": [
      "Model: \"sequential\"\n",
      "______________________________________________________________________________________________________________________________________________________\n",
      "Layer (type)                                                       Output Shape                                                Param #                \n",
      "======================================================================================================================================================\n",
      "conv1d (Conv1D)                                                    (None, 5333, 128)                                           512                    \n",
      "______________________________________________________________________________________________________________________________________________________\n",
      "batch_normalization (BatchNormalization)                           (None, 5333, 128)                                           512                    \n",
      "______________________________________________________________________________________________________________________________________________________\n",
      "activation (Activation)                                            (None, 5333, 128)                                           0                      \n",
      "______________________________________________________________________________________________________________________________________________________\n",
      "conv1d_1 (Conv1D)                                                  (None, 5333, 128)                                           49280                  \n",
      "______________________________________________________________________________________________________________________________________________________\n",
      "batch_normalization_1 (BatchNormalization)                         (None, 5333, 128)                                           512                    \n",
      "______________________________________________________________________________________________________________________________________________________\n",
      "activation_1 (Activation)                                          (None, 5333, 128)                                           0                      \n",
      "______________________________________________________________________________________________________________________________________________________\n",
      "max_pooling1d (MaxPooling1D)                                       (None, 1777, 128)                                           0                      \n",
      "______________________________________________________________________________________________________________________________________________________\n",
      "conv1d_2 (Conv1D)                                                  (None, 1777, 128)                                           49280                  \n",
      "______________________________________________________________________________________________________________________________________________________\n",
      "batch_normalization_2 (BatchNormalization)                         (None, 1777, 128)                                           512                    \n",
      "______________________________________________________________________________________________________________________________________________________\n",
      "activation_2 (Activation)                                          (None, 1777, 128)                                           0                      \n",
      "______________________________________________________________________________________________________________________________________________________\n",
      "max_pooling1d_1 (MaxPooling1D)                                     (None, 592, 128)                                            0                      \n",
      "______________________________________________________________________________________________________________________________________________________\n",
      "conv1d_3 (Conv1D)                                                  (None, 592, 256)                                            98560                  \n",
      "______________________________________________________________________________________________________________________________________________________\n",
      "batch_normalization_3 (BatchNormalization)                         (None, 592, 256)                                            1024                   \n",
      "______________________________________________________________________________________________________________________________________________________\n",
      "activation_3 (Activation)                                          (None, 592, 256)                                            0                      \n",
      "______________________________________________________________________________________________________________________________________________________\n",
      "max_pooling1d_2 (MaxPooling1D)                                     (None, 197, 256)                                            0                      \n",
      "______________________________________________________________________________________________________________________________________________________\n",
      "conv1d_4 (Conv1D)                                                  (None, 197, 256)                                            196864                 \n",
      "______________________________________________________________________________________________________________________________________________________\n",
      "batch_normalization_4 (BatchNormalization)                         (None, 197, 256)                                            1024                   \n",
      "______________________________________________________________________________________________________________________________________________________\n",
      "activation_4 (Activation)                                          (None, 197, 256)                                            0                      \n",
      "______________________________________________________________________________________________________________________________________________________\n",
      "max_pooling1d_3 (MaxPooling1D)                                     (None, 65, 256)                                             0                      \n",
      "______________________________________________________________________________________________________________________________________________________\n",
      "conv1d_5 (Conv1D)                                                  (None, 65, 256)                                             196864                 \n",
      "______________________________________________________________________________________________________________________________________________________\n",
      "batch_normalization_5 (BatchNormalization)                         (None, 65, 256)                                             1024                   \n",
      "______________________________________________________________________________________________________________________________________________________\n",
      "activation_5 (Activation)                                          (None, 65, 256)                                             0                      \n",
      "______________________________________________________________________________________________________________________________________________________\n",
      "max_pooling1d_4 (MaxPooling1D)                                     (None, 21, 256)                                             0                      \n",
      "______________________________________________________________________________________________________________________________________________________\n",
      "conv1d_6 (Conv1D)                                                  (None, 21, 256)                                             196864                 \n",
      "______________________________________________________________________________________________________________________________________________________\n",
      "batch_normalization_6 (BatchNormalization)                         (None, 21, 256)                                             1024                   \n",
      "______________________________________________________________________________________________________________________________________________________\n",
      "activation_6 (Activation)                                          (None, 21, 256)                                             0                      \n",
      "______________________________________________________________________________________________________________________________________________________\n",
      "max_pooling1d_5 (MaxPooling1D)                                     (None, 7, 256)                                              0                      \n",
      "______________________________________________________________________________________________________________________________________________________\n",
      "conv1d_7 (Conv1D)                                                  (None, 7, 256)                                              196864                 \n",
      "______________________________________________________________________________________________________________________________________________________\n",
      "batch_normalization_7 (BatchNormalization)                         (None, 7, 256)                                              1024                   \n",
      "______________________________________________________________________________________________________________________________________________________\n",
      "activation_7 (Activation)                                          (None, 7, 256)                                              0                      \n",
      "______________________________________________________________________________________________________________________________________________________\n",
      "max_pooling1d_6 (MaxPooling1D)                                     (None, 2, 256)                                              0                      \n",
      "______________________________________________________________________________________________________________________________________________________\n",
      "dropout (Dropout)                                                  (None, 2, 256)                                              0                      \n",
      "______________________________________________________________________________________________________________________________________________________\n",
      "flatten (Flatten)                                                  (None, 512)                                                 0                      \n",
      "______________________________________________________________________________________________________________________________________________________\n",
      "dense (Dense)                                                      (None, 30)                                                  15390                  \n",
      "______________________________________________________________________________________________________________________________________________________\n",
      "activation_8 (Activation)                                          (None, 30)                                                  0                      \n",
      "======================================================================================================================================================\n",
      "Total params: 1,007,134\n",
      "Trainable params: 1,003,806\n",
      "Non-trainable params: 3,328\n",
      "______________________________________________________________________________________________________________________________________________________\n"
     ]
    }
   ],
   "source": [
    "model = build_cnn(input_shape=input_shape, output_size=output_size)\n",
    "model.summary(line_length=150)\n",
    "del model"
   ]
  },
  {
   "cell_type": "code",
   "execution_count": 15,
   "metadata": {
    "colab": {
     "base_uri": "https://localhost:8080/",
     "height": 358
    },
    "colab_type": "code",
    "id": "WwCI11v0yRr9",
    "outputId": "39b2c5ec-104d-4994-e1b1-7970e9ebdc95"
   },
   "outputs": [
    {
     "name": "stdout",
     "output_type": "stream",
     "text": [
      "Train on 80000 samples, validate on 20000 samples\n",
      "Epoch 1/100\n",
      "79936/80000 [============================>.] - ETA: 0s - loss: 1.9020\n",
      "Epoch 00001: val_loss improved from inf to 1.70368, saving model to model/baseline_sampleCNN-original/Epoch_001_Val_1.704.hdf5\n",
      "80000/80000 [==============================] - 146s 2ms/sample - loss: 1.9019 - val_loss: 1.7037\n",
      "Epoch 2/100\n",
      "79936/80000 [============================>.] - ETA: 0s - loss: 1.5653\n",
      "Epoch 00002: val_loss improved from 1.70368 to 1.46531, saving model to model/baseline_sampleCNN-original/Epoch_002_Val_1.465.hdf5\n",
      "80000/80000 [==============================] - 143s 2ms/sample - loss: 1.5653 - val_loss: 1.4653\n",
      "Epoch 3/100\n",
      "79936/80000 [============================>.] - ETA: 0s - loss: 1.4443\n",
      "Epoch 00003: val_loss improved from 1.46531 to 1.46485, saving model to model/baseline_sampleCNN-original/Epoch_003_Val_1.465.hdf5\n",
      "80000/80000 [==============================] - 144s 2ms/sample - loss: 1.4444 - val_loss: 1.4649\n",
      "Epoch 4/100\n",
      "79936/80000 [============================>.] - ETA: 0s - loss: 1.3677\n",
      "Epoch 00004: val_loss improved from 1.46485 to 1.31571, saving model to model/baseline_sampleCNN-original/Epoch_004_Val_1.316.hdf5\n",
      "80000/80000 [==============================] - 144s 2ms/sample - loss: 1.3676 - val_loss: 1.3157\n",
      "Epoch 5/100\n",
      "79936/80000 [============================>.] - ETA: 0s - loss: 1.3141\n",
      "Epoch 00005: val_loss improved from 1.31571 to 1.25816, saving model to model/baseline_sampleCNN-original/Epoch_005_Val_1.258.hdf5\n",
      "80000/80000 [==============================] - 144s 2ms/sample - loss: 1.3140 - val_loss: 1.2582\n",
      "Epoch 6/100\n",
      "79936/80000 [============================>.] - ETA: 0s - loss: 1.2711\n",
      "Epoch 00006: val_loss did not improve from 1.25816\n",
      "80000/80000 [==============================] - 144s 2ms/sample - loss: 1.2711 - val_loss: 1.2651\n",
      "Epoch 7/100\n",
      "79936/80000 [============================>.] - ETA: 0s - loss: 1.2311\n",
      "Epoch 00007: val_loss improved from 1.25816 to 1.22825, saving model to model/baseline_sampleCNN-original/Epoch_007_Val_1.228.hdf5\n",
      "80000/80000 [==============================] - 145s 2ms/sample - loss: 1.2311 - val_loss: 1.2283\n",
      "Epoch 8/100\n",
      "79936/80000 [============================>.] - ETA: 0s - loss: 1.1978\n",
      "Epoch 00008: val_loss did not improve from 1.22825\n",
      "80000/80000 [==============================] - 142s 2ms/sample - loss: 1.1979 - val_loss: 1.2914\n",
      "Epoch 9/100\n",
      "79936/80000 [============================>.] - ETA: 0s - loss: 1.1680\n",
      "Epoch 00009: val_loss improved from 1.22825 to 1.17846, saving model to model/baseline_sampleCNN-original/Epoch_009_Val_1.178.hdf5\n",
      "80000/80000 [==============================] - 141s 2ms/sample - loss: 1.1680 - val_loss: 1.1785\n",
      "Epoch 10/100\n",
      "79936/80000 [============================>.] - ETA: 0s - loss: 1.1381\n",
      "Epoch 00010: val_loss did not improve from 1.17846\n",
      "80000/80000 [==============================] - 143s 2ms/sample - loss: 1.1381 - val_loss: 1.1794\n",
      "Epoch 11/100\n",
      "79936/80000 [============================>.] - ETA: 0s - loss: 1.1114\n",
      "Epoch 00011: val_loss improved from 1.17846 to 1.15639, saving model to model/baseline_sampleCNN-original/Epoch_011_Val_1.156.hdf5\n",
      "80000/80000 [==============================] - 142s 2ms/sample - loss: 1.1114 - val_loss: 1.1564\n",
      "Epoch 12/100\n",
      "79936/80000 [============================>.] - ETA: 0s - loss: 1.0857\n",
      "Epoch 00012: val_loss did not improve from 1.15639\n",
      "80000/80000 [==============================] - 141s 2ms/sample - loss: 1.0856 - val_loss: 1.1671\n",
      "Epoch 13/100\n",
      "79936/80000 [============================>.] - ETA: 0s - loss: 1.0602\n",
      "Epoch 00013: val_loss improved from 1.15639 to 1.13167, saving model to model/baseline_sampleCNN-original/Epoch_013_Val_1.132.hdf5\n",
      "80000/80000 [==============================] - 141s 2ms/sample - loss: 1.0602 - val_loss: 1.1317\n",
      "Epoch 14/100\n",
      "79936/80000 [============================>.] - ETA: 0s - loss: 1.0384\n",
      "Epoch 00014: val_loss improved from 1.13167 to 1.10516, saving model to model/baseline_sampleCNN-original/Epoch_014_Val_1.105.hdf5\n",
      "80000/80000 [==============================] - 141s 2ms/sample - loss: 1.0384 - val_loss: 1.1052\n",
      "Epoch 15/100\n",
      "79936/80000 [============================>.] - ETA: 0s - loss: 1.0176\n",
      "Epoch 00015: val_loss did not improve from 1.10516\n",
      "80000/80000 [==============================] - 141s 2ms/sample - loss: 1.0175 - val_loss: 1.1219\n",
      "Epoch 16/100\n",
      "79936/80000 [============================>.] - ETA: 0s - loss: 0.9964\n",
      "Epoch 00016: val_loss did not improve from 1.10516\n",
      "80000/80000 [==============================] - 141s 2ms/sample - loss: 0.9964 - val_loss: 1.1279\n",
      "Epoch 17/100\n",
      "79936/80000 [============================>.] - ETA: 0s - loss: 0.9749\n",
      "Epoch 00017: val_loss did not improve from 1.10516\n",
      "80000/80000 [==============================] - 141s 2ms/sample - loss: 0.9749 - val_loss: 1.1771\n",
      "Epoch 18/100\n",
      "79936/80000 [============================>.] - ETA: 0s - loss: 0.9557\n",
      "Epoch 00018: val_loss did not improve from 1.10516\n",
      "80000/80000 [==============================] - 141s 2ms/sample - loss: 0.9557 - val_loss: 1.1267\n",
      "Epoch 19/100\n",
      "79936/80000 [============================>.] - ETA: 0s - loss: 0.9352\n",
      "Epoch 00019: val_loss did not improve from 1.10516\n",
      "80000/80000 [==============================] - 141s 2ms/sample - loss: 0.9353 - val_loss: 1.1192\n",
      "Epoch 20/100\n",
      "79936/80000 [============================>.] - ETA: 0s - loss: 0.9180\n",
      "Epoch 00020: val_loss did not improve from 1.10516\n",
      "80000/80000 [==============================] - 141s 2ms/sample - loss: 0.9180 - val_loss: 1.1342\n",
      "Epoch 21/100\n",
      "79936/80000 [============================>.] - ETA: 0s - loss: 0.9008\n",
      "Epoch 00021: val_loss did not improve from 1.10516\n",
      "80000/80000 [==============================] - 142s 2ms/sample - loss: 0.9008 - val_loss: 1.1232\n",
      "Epoch 22/100\n",
      "79936/80000 [============================>.] - ETA: 0s - loss: 0.8831\n",
      "Epoch 00022: val_loss did not improve from 1.10516\n",
      "80000/80000 [==============================] - 141s 2ms/sample - loss: 0.8831 - val_loss: 1.1078\n",
      "Epoch 23/100\n",
      "79936/80000 [============================>.] - ETA: 0s - loss: 0.8667\n",
      "Epoch 00023: val_loss did not improve from 1.10516\n",
      "80000/80000 [==============================] - 141s 2ms/sample - loss: 0.8667 - val_loss: 1.1291\n",
      "Epoch 24/100\n",
      "79936/80000 [============================>.] - ETA: 0s - loss: 0.8505\n",
      "Epoch 00024: val_loss did not improve from 1.10516\n",
      "80000/80000 [==============================] - 141s 2ms/sample - loss: 0.8505 - val_loss: 1.1500\n"
     ]
    }
   ],
   "source": [
    "model = build_cnn(input_shape=input_shape, output_size=output_size)\n",
    "model.compile(loss=tf.keras.losses.KLDivergence(), optimizer='adam')\n",
    "\n",
    "# Validation 점수가 가장 좋은 모델만 저장합니다.\n",
    "checkpoint_path = pth.join(model_path, model_name)\n",
    "os.makedirs(checkpoint_path, exist_ok=True)\n",
    "model_file_path = pth.join(checkpoint_path, 'Epoch_{epoch:03d}_Val_{val_loss:.3f}.hdf5')\n",
    "checkpoint = ModelCheckpoint(filepath=model_file_path, monitor='val_loss', verbose=1, save_best_only=True)\n",
    "\n",
    "# 10회 간 Validation 점수가 좋아지지 않으면 중지합니다.\n",
    "early_stopping = EarlyStopping(monitor='val_loss', patience=10)\n",
    "\n",
    "# 모델을 학습시킵니다.\n",
    "history = model.fit(\n",
    "    x_data, y_data, \n",
    "    epochs=100, batch_size=64, validation_split=0.2, shuffle=True,\n",
    "    callbacks=[checkpoint, early_stopping]\n",
    ")"
   ]
  },
  {
   "cell_type": "code",
   "execution_count": 16,
   "metadata": {},
   "outputs": [
    {
     "data": {
      "image/png": "[encoded data removed]",
      "text/plain": [
       "<Figure size 432x288 with 1 Axes>"
      ]
     },
     "metadata": {
      "needs_background": "light"
     },
     "output_type": "display_data"
    }
   ],
   "source": [
    "# 훈련 결과를 확인합니다.\n",
    "plt.plot(history.epoch, history.history['loss'], '-o', label='training_loss')\n",
    "plt.plot(history.epoch, history.history['val_loss'], '-o', label='validation_loss')\n",
    "plt.legend()\n",
    "plt.xlim(left=0)\n",
    "plt.xlabel('epochs')\n",
    "plt.ylabel('loss')\n",
    "plt.show()"
   ]
  },
  {
   "cell_type": "markdown",
   "metadata": {},
   "source": [
    "### Predict"
   ]
  },
  {
   "cell_type": "code",
   "execution_count": 17,
   "metadata": {},
   "outputs": [],
   "source": [
    "submission_base = pth.join('submission')\n",
    "os.makedirs(submission_base, exist_ok=True)"
   ]
  },
  {
   "cell_type": "code",
   "execution_count": 18,
   "metadata": {},
   "outputs": [
    {
     "name": "stderr",
     "output_type": "stream",
     "text": [
      "/usr/local/lib/python3.6/dist-packages/ipykernel_launcher.py:4: TqdmDeprecationWarning: This function will be removed in tqdm==5.0.0\n",
      "Please use `tqdm.notebook.tqdm` instead of `tqdm.tqdm_notebook`\n",
      "  after removing the cwd from sys.path.\n"
     ]
    },
    {
     "data": {
      "application/vnd.jupyter.widget-view+json": {
       "model_id": "b5a5b7e5e82740e680366fc6ac1f42ac",
       "version_major": 2,
       "version_minor": 0
      },
      "text/plain": [
       "HBox(children=(FloatProgress(value=0.0, max=10000.0), HTML(value='')))"
      ]
     },
     "metadata": {},
     "output_type": "display_data"
    },
    {
     "name": "stdout",
     "output_type": "stream",
     "text": [
      "\n",
      "model/baseline_sampleCNN-original/Epoch_014_Val_1.105.hdf5\n"
     ]
    }
   ],
   "source": [
    "# 검증 wav 파일로부터 Feature를 만듭니다.\n",
    "x_test = glob('data/test/*.wav')\n",
    "x_test = data_loader(x_test)\n",
    "x_test = np.asarray([wav/wav.max() for wav in x_test]) # 최대값을 나누어 데이터 정규화\n",
    "x_test = x_test.reshape(x_test.shape[0], x_test.shape[1], 1)\n",
    "\n",
    "# 가장 좋은 모델의 weight를 불러옵니다.\n",
    "checkpoint_path = pth.join(model_path, model_name)\n",
    "weigth_file = glob('{}/*.hdf5'.format(checkpoint_path))[-1]\n",
    "print(weigth_file)\n",
    "model.load_weights(weigth_file)\n",
    "\n",
    "# 예측 수행\n",
    "y_pred = model.predict(x_test)\n",
    "\n",
    "# 예측 결과로 제출 파일을 생성합니다.\n",
    "submission = pd.read_csv('data/submission.csv', index_col=0)\n",
    "submission.loc[:, :] = y_pred\n",
    "submission.to_csv(pth.join(submission_base, '{}.csv'.format(model_name)))"
   ]
  },
  {
   "cell_type": "code",
   "execution_count": null,
   "metadata": {},
   "outputs": [],
   "source": []
  },
  {
   "cell_type": "raw",
   "metadata": {},
   "source": [
    "from IPython.display import display_html\n",
    "def restartkernel():\n",
    "    display_html(\"<script>Jupyter.notebook.kernel.restart()</script>\",raw=True)\n",
    "restartkernel()"
   ]
  }
 ],
 "metadata": {
  "accelerator": "GPU",
  "colab": {
   "collapsed_sections": [],
   "name": "1D_CNN.ipynb",
   "provenance": []
  },
  "kernelspec": {
   "display_name": "Python 3",
   "language": "python",
   "name": "python3"
  },
  "language_info": {
   "codemirror_mode": {
    "name": "ipython",
    "version": 3
   },
   "file_extension": ".py",
   "mimetype": "text/x-python",
   "name": "python",
   "nbconvert_exporter": "python",
   "pygments_lexer": "ipython3",
   "version": "3.6.9"
  }
 },
 "nbformat": 4,
 "nbformat_minor": 4
}
