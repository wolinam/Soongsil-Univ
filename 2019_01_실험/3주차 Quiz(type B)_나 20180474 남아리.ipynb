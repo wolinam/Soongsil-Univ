{
 "cells": [
  {
   "cell_type": "markdown",
   "metadata": {},
   "source": [
    "## Quiz 제출방법\n",
    "1. Jupyter name을 변경 시켜 주십시요. (3주차 Quiz -> 분반 학번 이름)\n",
    "2. 아래 Hash값을 생성시키는 cell을 실행시키도록 합니다.\n",
    "3. 각 과제 밑에 있는 code cell에서 program을 입력한 후에 이를 실행시킵니다.\n",
    "4. Quiz를 완료한 후에는 File -> Download As -> Notebook(.ipynb)로 저장한 후, 이 file을 smart campus에 upload바랍니다."
   ]
  },
  {
   "cell_type": "markdown",
   "metadata": {},
   "source": [
    "\n",
    "\n",
    "##  *** 아래 Cell은 각 PC마다 다른 숫자(Hash값)를 생성시키는 Program입니다.***\n",
    "실행 ( Run ) 시켜 주십시요..."
   ]
  },
  {
   "cell_type": "code",
   "execution_count": 2,
   "metadata": {},
   "outputs": [
    {
     "name": "stdout",
     "output_type": "stream",
     "text": [
      "85468554\n"
     ]
    }
   ],
   "source": [
    "import socket\n",
    "IP_addr = socket.gethostbyname(socket.gethostname())\n",
    "from uuid import getnode as get_mac\n",
    "mac = get_mac()\n",
    "mac_addr=str(mac)\n",
    "addr=IP_addr+mac_addr\n",
    "import hashlib\n",
    "hash_object= hashlib.sha1(addr.encode('utf-8'))\n",
    "signature = int(hash_object.hexdigest(), 16) % 10**8\n",
    "print(str(signature))"
   ]
  },
  {
   "cell_type": "markdown",
   "metadata": {},
   "source": [
    "### Quiz 1\n",
    "str1  = 'Boys, Be Ambitious'라는 String을 정의하고,\n",
    "str1에서 slicing을 이용해서 'Ambit'라는 str2를 만드시요. 그리고 print문을 사용해서 표시하시요."
   ]
  },
  {
   "cell_type": "code",
   "execution_count": 9,
   "metadata": {},
   "outputs": [
    {
     "name": "stdout",
     "output_type": "stream",
     "text": [
      "Ambit\n"
     ]
    }
   ],
   "source": [
    "str1 = 'Boys, Be Ambitious'\n",
    "str2 = str1[9:14]\n",
    "print(str2)"
   ]
  },
  {
   "cell_type": "markdown",
   "metadata": {},
   "source": [
    "### Quiz 2\n",
    "str = \"______________\"을 정의하고, print(str)을 하면 아래와 같이 print되도록 string을 채워넣으세요...\n",
    "\n",
    "#### (답) He said, \"Yes, it doesn't matter\""
   ]
  },
  {
   "cell_type": "code",
   "execution_count": 11,
   "metadata": {},
   "outputs": [
    {
     "name": "stdout",
     "output_type": "stream",
     "text": [
      "He said,\"Yes, it doesn't matter\"\n"
     ]
    }
   ],
   "source": [
    "str = \"He said,\\\"Yes, it doesn't matter\\\"\"\n",
    "print(str)"
   ]
  },
  {
   "cell_type": "markdown",
   "metadata": {},
   "source": [
    "### Quiz 3\n",
    "str4 = \"Even in a world with much sadness life is beautiful\"에서  사용되는 word를 list1로 만들고, list내에 word의 갯수가 몇개인지 program하여 list1과 갯수를 print하시요...\n",
    "#### (답)  ['Even', 'in', 'a'....'beautiful'] \n",
    "#### 10\n"
   ]
  },
  {
   "cell_type": "code",
   "execution_count": 6,
   "metadata": {},
   "outputs": [
    {
     "name": "stdout",
     "output_type": "stream",
     "text": [
      "['Even', 'in', 'a', 'world', 'with', 'much', 'sadness', 'life', 'is', 'beautiful']\n"
     ]
    },
    {
     "data": {
      "text/plain": [
       "10"
      ]
     },
     "execution_count": 6,
     "metadata": {},
     "output_type": "execute_result"
    }
   ],
   "source": [
    "list1 = ['Even', 'in', 'a', 'world', 'with', 'much', 'sadness','life','is','beautiful']\n",
    "print(list1)\n",
    "len(list1)"
   ]
  },
  {
   "cell_type": "markdown",
   "metadata": {},
   "source": [
    "### Quiz 4\n",
    "#### 위에서 만든 list1 = ['Even', 'in', 'a', 'world', 'with', 'much', 'sadness', 'life', 'is', 'beautiful']에서  alphabet의 역순으로 만드시요...(주의 : 대문자가 소문자에 앞서게 됩니다) \n",
    "#### 정답 :['world', 'with', 'sadness', 'much', 'life', 'is', 'in', 'beautiful', 'a', 'Even']"
   ]
  },
  {
   "cell_type": "code",
   "execution_count": 7,
   "metadata": {},
   "outputs": [
    {
     "name": "stdout",
     "output_type": "stream",
     "text": [
      "['world', 'with', 'sadness', 'much', 'life', 'is', 'in', 'beautiful', 'a', 'Even']\n"
     ]
    }
   ],
   "source": [
    "list1.sort()\n",
    "list1.reverse()\n",
    "print(list1)"
   ]
  },
  {
   "cell_type": "code",
   "execution_count": null,
   "metadata": {},
   "outputs": [],
   "source": []
  }
 ],
 "metadata": {
  "kernelspec": {
   "display_name": "Python 3",
   "language": "python",
   "name": "python3"
  },
  "language_info": {
   "codemirror_mode": {
    "name": "ipython",
    "version": 3
   },
   "file_extension": ".py",
   "mimetype": "text/x-python",
   "name": "python",
   "nbconvert_exporter": "python",
   "pygments_lexer": "ipython3",
   "version": "3.6.4"
  }
 },
 "nbformat": 4,
 "nbformat_minor": 2
}
