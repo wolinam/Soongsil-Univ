{
 "cells": [
  {
   "cell_type": "markdown",
   "metadata": {},
   "source": [
    "##  아래 Cell은 각 PC마다 다른 숫자(Hash값)를 생성시키는 Program입니다.\n",
    "### 실행 ( Run ) 시켜 주십시요..."
   ]
  },
  {
   "cell_type": "code",
   "execution_count": 6,
   "metadata": {
    "scrolled": true
   },
   "outputs": [
    {
     "name": "stdout",
     "output_type": "stream",
     "text": [
      "5319803\n"
     ]
    }
   ],
   "source": [
    "from uuid import getnode as get_mac\n",
    "mac = get_mac()\n",
    "mac_addr=str(mac)\n",
    "import hashlib\n",
    "hash_object= hashlib.sha1(mac_addr.encode('utf-8'))\n",
    "signature = int(hash_object.hexdigest(), 16) % 10**8\n",
    "print(str(signature))"
   ]
  },
  {
   "cell_type": "markdown",
   "metadata": {},
   "source": [
    "### 과제1.  아래 cell에 있는 program code를 실행하면 아래와 같은 결과가 나옵니다.  이러한 결과가 나오게 되는 이유를 아래 빈칸에서 설명하시요...\n",
    "### 결과\n",
    "#### global value [ a_var outside a_func() ]\n",
    "#### local value [ a_var inside a_func() ]\n",
    "#### local value [ a_var outside a_func() ]"
   ]
  },
  {
   "cell_type": "code",
   "execution_count": 2,
   "metadata": {},
   "outputs": [
    {
     "name": "stdout",
     "output_type": "stream",
     "text": [
      "global value [ a_var outside a_func() ]\n",
      "local value [ a_var inside a_func() ]\n",
      "local value [ a_var outside a_func() ]\n"
     ]
    }
   ],
   "source": [
    "a_var = 'global value'\n",
    "\n",
    "def a_func():\n",
    "    global a_var\n",
    "    a_var = 'local value'\n",
    "    print(a_var, '[ a_var inside a_func() ]')\n",
    "\n",
    "print(a_var, '[ a_var outside a_func() ]')\n",
    "a_func()\n",
    "print(a_var, '[ a_var outside a_func() ]')"
   ]
  },
  {
   "cell_type": "markdown",
   "metadata": {},
   "source": [
    "< 과제 1 - 이유 설명 >\n"
   ]
  },
  {
   "cell_type": "code",
   "execution_count": null,
   "metadata": {},
   "outputs": [],
   "source": [
    "def는 함수를 정의하는 부분이기 때문에 명령하기 전에는 실행 되지 않는다.\n",
    "그래서 처음에는 'global value'로 출력된다.\n",
    "그 다음에 a_func()을 실행했기 떄문에 정의에 의해 a_var가 'local value'로 바뀌고 출력된다.\n",
    "이 때 global로 정의했기 때문에 함수가 끝나도 그대로 유지된다.\n",
    "그래서 마지막 출력 또한 함수에서 정의된 'local value'로 출력된다."
   ]
  },
  {
   "cell_type": "markdown",
   "metadata": {},
   "source": [
    "### 과제 2.\n",
    "#### 아래 program code를 실행시키면  Error가 표시됩니다.  왜 Error가 발생하는 지 ? 설명하시요..."
   ]
  },
  {
   "cell_type": "code",
   "execution_count": 3,
   "metadata": {},
   "outputs": [
    {
     "name": "stdout",
     "output_type": "stream",
     "text": [
      "1 [ a_var outside a_func() ]\n"
     ]
    },
    {
     "ename": "UnboundLocalError",
     "evalue": "local variable 'a_var' referenced before assignment",
     "output_type": "error",
     "traceback": [
      "\u001b[1;31m---------------------------------------------------------------------------\u001b[0m",
      "\u001b[1;31mUnboundLocalError\u001b[0m                         Traceback (most recent call last)",
      "\u001b[1;32m<ipython-input-3-2cd52cfb1ba1>\u001b[0m in \u001b[0;36m<module>\u001b[1;34m\u001b[0m\n\u001b[0;32m      6\u001b[0m \u001b[1;33m\u001b[0m\u001b[0m\n\u001b[0;32m      7\u001b[0m \u001b[0mprint\u001b[0m\u001b[1;33m(\u001b[0m\u001b[0ma_var\u001b[0m\u001b[1;33m,\u001b[0m \u001b[1;34m'[ a_var outside a_func() ]'\u001b[0m\u001b[1;33m)\u001b[0m\u001b[1;33m\u001b[0m\u001b[1;33m\u001b[0m\u001b[0m\n\u001b[1;32m----> 8\u001b[1;33m \u001b[0ma_func\u001b[0m\u001b[1;33m(\u001b[0m\u001b[1;33m)\u001b[0m\u001b[1;33m\u001b[0m\u001b[1;33m\u001b[0m\u001b[0m\n\u001b[0m",
      "\u001b[1;32m<ipython-input-3-2cd52cfb1ba1>\u001b[0m in \u001b[0;36ma_func\u001b[1;34m()\u001b[0m\n\u001b[0;32m      2\u001b[0m \u001b[1;33m\u001b[0m\u001b[0m\n\u001b[0;32m      3\u001b[0m \u001b[1;32mdef\u001b[0m \u001b[0ma_func\u001b[0m\u001b[1;33m(\u001b[0m\u001b[1;33m)\u001b[0m\u001b[1;33m:\u001b[0m\u001b[1;33m\u001b[0m\u001b[1;33m\u001b[0m\u001b[0m\n\u001b[1;32m----> 4\u001b[1;33m     \u001b[0ma_var\u001b[0m \u001b[1;33m=\u001b[0m \u001b[0ma_var\u001b[0m \u001b[1;33m+\u001b[0m \u001b[1;36m1\u001b[0m\u001b[1;33m\u001b[0m\u001b[1;33m\u001b[0m\u001b[0m\n\u001b[0m\u001b[0;32m      5\u001b[0m     \u001b[0mprint\u001b[0m\u001b[1;33m(\u001b[0m\u001b[0ma_var\u001b[0m\u001b[1;33m,\u001b[0m \u001b[1;34m'[ a_var inside a_func() ]'\u001b[0m\u001b[1;33m)\u001b[0m\u001b[1;33m\u001b[0m\u001b[1;33m\u001b[0m\u001b[0m\n\u001b[0;32m      6\u001b[0m \u001b[1;33m\u001b[0m\u001b[0m\n",
      "\u001b[1;31mUnboundLocalError\u001b[0m: local variable 'a_var' referenced before assignment"
     ]
    }
   ],
   "source": [
    "a_var = 1\n",
    "\n",
    "def a_func():\n",
    "    a_var = a_var + 1\n",
    "    print(a_var, '[ a_var inside a_func() ]')\n",
    "\n",
    "print(a_var, '[ a_var outside a_func() ]')\n",
    "a_func()"
   ]
  },
  {
   "cell_type": "markdown",
   "metadata": {},
   "source": [
    "< 과제2 - 이유 설명 >\n"
   ]
  },
  {
   "cell_type": "code",
   "execution_count": null,
   "metadata": {},
   "outputs": [],
   "source": [
    "함수 안에서 따로 local variable인 'a_var'를 정의 하지 않았기 때문이다."
   ]
  },
  {
   "cell_type": "markdown",
   "metadata": {},
   "source": [
    "### 과제 3.\n",
    "#### 아래 program code가 실행되면 그 결과를 얻을 수 있다.  그런데 len() 가 기존에 얻었던 결과와 다른 결과를 갖게 되는 이유를 설명하시요..."
   ]
  },
  {
   "cell_type": "code",
   "execution_count": 4,
   "metadata": {},
   "outputs": [
    {
     "name": "stdout",
     "output_type": "stream",
     "text": [
      "called my len() function\n",
      "Input variable is of length 13\n"
     ]
    }
   ],
   "source": [
    "a_var = 'global variable'\n",
    "\n",
    "def len(in_var):\n",
    "    print('called my len() function')\n",
    "    l = 0\n",
    "    for i in in_var:\n",
    "        l += 1\n",
    "    return l\n",
    "\n",
    "def a_func(in_var):\n",
    "    len_in_var = len(in_var)\n",
    "    print('Input variable is of length', len_in_var)\n",
    "\n",
    "a_func('Hello, World!')"
   ]
  },
  {
   "cell_type": "markdown",
   "metadata": {},
   "source": [
    "< 과제3 - 이유 설명 >\n",
    "\n"
   ]
  },
  {
   "cell_type": "code",
   "execution_count": null,
   "metadata": {},
   "outputs": [],
   "source": [
    "len() 함수를 새롭게 정의했기 때문이다.\n",
    "새롭게 정의된 len()함수에서는 'called my len() function'을 출력하고\n",
    "입력된 문장의 값을 하나씩 읽어\n",
    "새로운 변수에 1씩 증가시키면서 값을 저장하고 반환하도록 정의되어 있다.\n",
    "그리고 a_func()함수에서는 이 값을 불러와 'Input variable is of lenge'와 길이를 출력하도록 정의되어있다.\n",
    "그래서 숫자만 달랑 출력되던 원래 len()과 달리\n",
    "a_func()을 실행시키면 두 문장이 출력된 후 하나씩 센 값인 길이가 출력된다."
   ]
  }
 ],
 "metadata": {
  "kernelspec": {
   "display_name": "Python 3",
   "language": "python",
   "name": "python3"
  },
  "language_info": {
   "codemirror_mode": {
    "name": "ipython",
    "version": 3
   },
   "file_extension": ".py",
   "mimetype": "text/x-python",
   "name": "python",
   "nbconvert_exporter": "python",
   "pygments_lexer": "ipython3",
   "version": "3.7.1"
  }
 },
 "nbformat": 4,
 "nbformat_minor": 2
}
