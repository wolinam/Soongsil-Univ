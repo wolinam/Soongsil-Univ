{
 "cells": [
  {
   "cell_type": "markdown",
   "metadata": {},
   "source": [
    "##  아래 Cell은 각 PC마다 다른 숫자(Hash값)를 생성시키는 Program입니다.\n",
    "### 실행 ( Run ) 시켜 주십시요..."
   ]
  },
  {
   "cell_type": "code",
   "execution_count": 23,
   "metadata": {},
   "outputs": [
    {
     "name": "stdout",
     "output_type": "stream",
     "text": [
      "6824137\n"
     ]
    }
   ],
   "source": [
    "from uuid import getnode as get_mac\n",
    "mac = get_mac()\n",
    "mac_addr=str(mac)\n",
    "import hashlib\n",
    "hash_object= hashlib.sha1(mac_addr.encode('utf-8'))\n",
    "signature = int(hash_object.hexdigest(), 16) % 10**8\n",
    "print(str(signature))"
   ]
  },
  {
   "cell_type": "markdown",
   "metadata": {},
   "source": [
    "### Quiz 1 \n",
    "#### string a를 아래와 같이 정의하고, a의 길이를 계산하여  아래와 같은 결과(String + 길이)를 나타내는 program을 하시요...\n",
    "#### a='Hello World!'\n",
    "\n",
    "#### 결과 : Hello World!12"
   ]
  },
  {
   "cell_type": "code",
   "execution_count": 24,
   "metadata": {},
   "outputs": [
    {
     "name": "stdout",
     "output_type": "stream",
     "text": [
      "Hello World!12\n"
     ]
    }
   ],
   "source": [
    "a='Hello World!'\n",
    "print(a + str(len(a)))"
   ]
  },
  {
   "cell_type": "markdown",
   "metadata": {},
   "source": [
    "### Quiz 2 \n",
    "#### 아래와 같이 변수가 정의되어 있고 해당 변수를 <결과> 값과 같이 <가>위치에 number, <나>위치에  day값이  삽입되어  Print 될 수 있도록 program하시요...\n",
    "\n",
    "#### number = 10\n",
    "#### day = 'three'\n",
    "#### <결과>\n",
    "#### I ate (가)  apples. so I was sick for (나) days.\n"
   ]
  },
  {
   "cell_type": "code",
   "execution_count": 3,
   "metadata": {},
   "outputs": [
    {
     "name": "stdout",
     "output_type": "stream",
     "text": [
      "I ate 10 apples, so I was sick for three days\n"
     ]
    }
   ],
   "source": [
    "number = 10\n",
    "day = 'three'\n",
    "print('I ate %d apples, so I was sick for %s days'%(number,day))"
   ]
  },
  {
   "cell_type": "markdown",
   "metadata": {},
   "source": [
    "### Quiz 3 \n",
    "#### 아래와 같은 list가 정의되어 있을 때, 결과값이 나올 수 있도록 program 하시요..\n",
    "#### tr_list = [1, 2, ['a', 'b', ['Life', 'is']]]\n",
    "#### <결과> 'is'"
   ]
  },
  {
   "cell_type": "code",
   "execution_count": 4,
   "metadata": {},
   "outputs": [
    {
     "data": {
      "text/plain": [
       "'is'"
      ]
     },
     "execution_count": 4,
     "metadata": {},
     "output_type": "execute_result"
    }
   ],
   "source": [
    "tr_list = [1,2,['a','b',['Life','is']]]\n",
    "tr_list[2][2][1]"
   ]
  },
  {
   "cell_type": "markdown",
   "metadata": {},
   "source": [
    "### Quiz 4\n",
    "#### file관련 program을 할 때 아래와 같이 program시에 들어갈 python keyword는 어떤 건가요 ?  이는 file close를 할 필요를 없게 합니다.\n",
    "```\n",
    "___ open(‘foo.txt’, ‘w’) ___ f:\n",
    "    f.write(‘Life is too short, you need python’)\n",
    "```"
   ]
  },
  {
   "cell_type": "code",
   "execution_count": 5,
   "metadata": {},
   "outputs": [],
   "source": [
    "with open('foo.txt','w') as f:\n",
    "    f.write('Life is too short, you need python')"
   ]
  },
  {
   "cell_type": "markdown",
   "metadata": {},
   "source": [
    "### Quiz 5\n",
    "#### 아래와 같은 입력 list가 있을 때,  3의 배수만  ( 2 x  item + 1 ) 하여 아래와 같은 출력 list를 만들어 내는 comprehension을 program 하시요...\n",
    "#### 입력 list    -> li = [3, 4, 7, 9, 2, 7, 3, 8]\n",
    "#### 출력 list [7, 19, 7]"
   ]
  },
  {
   "cell_type": "code",
   "execution_count": 22,
   "metadata": {},
   "outputs": [
    {
     "ename": "SyntaxError",
     "evalue": "invalid syntax (<ipython-input-22-f24bbef142bb>, line 2)",
     "output_type": "error",
     "traceback": [
      "\u001b[0;36m  File \u001b[0;32m\"<ipython-input-22-f24bbef142bb>\"\u001b[0;36m, line \u001b[0;32m2\u001b[0m\n\u001b[0;31m    (2*item+1) for item in li[ x for x%3==0 in li]:\u001b[0m\n\u001b[0m                 ^\u001b[0m\n\u001b[0;31mSyntaxError\u001b[0m\u001b[0;31m:\u001b[0m invalid syntax\n"
     ]
    }
   ],
   "source": [
    "li = [3,4,7,9,2,7,3,8]\n",
    "(2*item+1) for item in li[ x for x%3==0 in li]:\n",
    "    print(item)"
   ]
  },
  {
   "cell_type": "code",
   "execution_count": null,
   "metadata": {},
   "outputs": [],
   "source": []
  }
 ],
 "metadata": {
  "kernelspec": {
   "display_name": "Python 3",
   "language": "python",
   "name": "python3"
  },
  "language_info": {
   "codemirror_mode": {
    "name": "ipython",
    "version": 3
   },
   "file_extension": ".py",
   "mimetype": "text/x-python",
   "name": "python",
   "nbconvert_exporter": "python",
   "pygments_lexer": "ipython3",
   "version": "3.6.4"
  }
 },
 "nbformat": 4,
 "nbformat_minor": 2
}
