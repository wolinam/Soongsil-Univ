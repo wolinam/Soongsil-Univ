{
 "cells": [
  {
   "cell_type": "markdown",
   "metadata": {},
   "source": [
    "## 과제 제출방법\n",
    "1. Jupyter name을 변경 시켜 주십시요. (__주차과제 -> 분반 학번 이름)\n",
    "2. 아래 Hash값을 생성시키는 cell을 실행시키도록 합니다.\n",
    "3. 각 과제 밑에 있는 code cell에서 program을 입력한 후에 이를 실행시킵니다.\n",
    "4. 모든 과제를 완료한 후에는 File -> Download As -> Notebook(.ipynb)로 저장한 후, 이 file을 smart campus에 upload바랍니다."
   ]
  },
  {
   "cell_type": "markdown",
   "metadata": {},
   "source": [
    "##  *** 아래 Cell은 각 PC마다 다른 숫자(Hash값)를 생성시키는 Program입니다.***\n",
    "실행 ( Run ) 시켜 주십시요..."
   ]
  },
  {
   "cell_type": "code",
   "execution_count": null,
   "metadata": {},
   "outputs": [],
   "source": [
    "import socket\n",
    "IP_addr = socket.gethostbyname(socket.gethostname())\n",
    "from uuid import getnode as get_mac\n",
    "mac = get_mac()\n",
    "mac_addr=str(mac)\n",
    "addr=IP_addr+mac_addr\n",
    "import hashlib\n",
    "hash_object= hashlib.sha1(addr.encode('utf-8'))\n",
    "signature = int(hash_object.hexdigest(), 16) % 10**8\n",
    "print(str(signature))"
   ]
  },
  {
   "cell_type": "markdown",
   "metadata": {},
   "source": [
    "### 과제 1\n",
    "#### 아래의 rec에 대해서  dictionary operation을 하여  다음과 같은 결과를 만드시요...\n",
    "#### rec = { 'name' : {'first' : 'Bob', 'last':'Smith'}, 'jobs' : ['dev', 'mgr'], 'age' : 40.5 } \n",
    "#### 결과 :  rec =  { 'name' : {'first' : 'Bob', 'last':'Smith'}, 'jobs' : ['dev', 'mgr', 'janitor'], 'age' : 40.5 } "
   ]
  },
  {
   "cell_type": "code",
   "execution_count": 61,
   "metadata": {},
   "outputs": [
    {
     "data": {
      "text/plain": [
       "{'name': {'first': 'Bob', 'last': 'Smith'},\n",
       " 'jobs': ['dev', 'mgr', 'janitor'],\n",
       " 'age': 40.5}"
      ]
     },
     "execution_count": 61,
     "metadata": {},
     "output_type": "execute_result"
    }
   ],
   "source": [
    "rec = {'name':{'first':'Bob','last':'Smith'},'jobs':['dev','mgr'],'age':40.5}\n",
    "rec['jobs'].append('janitor')\n",
    "rec"
   ]
  },
  {
   "cell_type": "markdown",
   "metadata": {},
   "source": [
    "### 과제 2\n",
    "#### 과제1에서 만들어진 결과 rec를 아래와 같이 수정해서 결과를 얻게 하도록 program하시요...\n",
    "##### Bob에서 Bill로 변경\n",
    "##### 나이는 40.5에서 45로 변경\n",
    "##### jobs에서 'dev' 삭제\n",
    "#### 결과  : {'age': 45,  'jobs': ['mgr', 'janitor'],  'name': {'first': 'Bill', 'last': 'Smith'}}"
   ]
  },
  {
   "cell_type": "code",
   "execution_count": 62,
   "metadata": {},
   "outputs": [
    {
     "data": {
      "text/plain": [
       "{'name': {'first': 'Bill', 'last': 'Smith'},\n",
       " 'jobs': ['mgr', 'janitor'],\n",
       " 'age': 45}"
      ]
     },
     "execution_count": 62,
     "metadata": {},
     "output_type": "execute_result"
    }
   ],
   "source": [
    "rec['name'] = {'first':'Bill','last':'Smith'}\n",
    "rec['age']=45\n",
    "del rec['jobs'][0]\n",
    "rec"
   ]
  },
  {
   "cell_type": "markdown",
   "metadata": {},
   "source": [
    "### 과제 3\n",
    "#### 아래와 같은 dictionary d에 프로그램을 하여 아래와 같은 결과가 나오도록 하시요...\n",
    "#### d = {'user' : 'bozo', 'p' : 1234, 'i' : 34 }\n",
    "#### 결과 : [('user', 'bozo'), ('i', 34)]"
   ]
  },
  {
   "cell_type": "code",
   "execution_count": 54,
   "metadata": {},
   "outputs": [
    {
     "data": {
      "text/plain": [
       "[('user', 'bozo'), ('i', 34)]"
      ]
     },
     "execution_count": 54,
     "metadata": {},
     "output_type": "execute_result"
    }
   ],
   "source": [
    "d={'user':'bozo','p':1234,'i':34}\n",
    "del d['p']\n",
    "list(d.items())"
   ]
  },
  {
   "cell_type": "markdown",
   "metadata": {},
   "source": [
    "### 과제 4 (총 3 점)\n",
    "#### 아래 List1에서 first name만 뽑아서 결과와 같은 list를 만드는  program하시요...\n",
    "#### list1  = [{'first' : 'Paul', 'last' : 'McCartney'}, {'first' : 'John', 'last' : 'Lennon'}, {'first' : 'Ringo', 'last' : 'Starr'}, {'first' : 'George', 'last' : 'Harrison'}, {'first' : 'Bob', 'last' : 'Smith'}] \n",
    "#### 결과 \n",
    "#### ['Paul', 'John', 'Ringo', 'George', 'Bob']\n",
    "#### Hint : 초기에 empty list를 만들고  for  loop를 사용해서   append( ) method를 사용하시요..."
   ]
  },
  {
   "cell_type": "code",
   "execution_count": 174,
   "metadata": {},
   "outputs": [
    {
     "name": "stdout",
     "output_type": "stream",
     "text": [
      "['Paul', 'John', 'Ringo', 'George', 'Bob']\n"
     ]
    }
   ],
   "source": [
    "list1 = [{'first':'Paul','last':'McCartney'},{'first':'John','last':'Lennon'},{'first':'Ringo','last':'Starr'},{'first':'George','last':'Harrison'},{'first':'Bob','last':'Smith'}]\n",
    "list2 = []\n",
    "for i in range(len(list1)):\n",
    "    list2.append(list1[i]['first'])\n",
    "print(list2)"
   ]
  },
  {
   "cell_type": "markdown",
   "metadata": {},
   "source": [
    "### 과제 5 (총 4점)\n",
    "####  integer(정수)를 입력받아 factorial을 계산하는 Program을 작성하시요...\n",
    "#### (예 ) 정수 4 입력받을 시 -> 4! 를 계산함 (4x3x2x1 = 24),  5 ! (5x4x3x2x1 = 120)\n",
    "#### hint : 사용함수는 input('Enter a number :  '), int(), loop function (for 혹은 while), print()"
   ]
  },
  {
   "cell_type": "code",
   "execution_count": 92,
   "metadata": {},
   "outputs": [
    {
     "name": "stdout",
     "output_type": "stream",
     "text": [
      "Enter a number : 5\n",
      "120\n"
     ]
    }
   ],
   "source": [
    "num = int(input('Enter a number : '))\n",
    "i = 1\n",
    "for a in range(1,num+1):\n",
    "    i = i * a\n",
    "print(\"%d\"%(i))"
   ]
  },
  {
   "cell_type": "markdown",
   "metadata": {},
   "source": [
    "### 과제 6 (총 2점)\n",
    "#### 위의 Program에서 input에 정수가 아닌 숫자나 글자가 입력되었을 때,  \"Not Valid Integer\"를 표시하고 제대로 된 입력을 받을때까지 계속 반복하는  프로그램을 추가하시요..."
   ]
  },
  {
   "cell_type": "code",
   "execution_count": null,
   "metadata": {},
   "outputs": [
    {
     "name": "stdout",
     "output_type": "stream",
     "text": [
      "Enter a number : 4.5\n",
      "Not Valid Integer\n",
      "Enter a number : 4\n",
      "4!=24\n",
      "Enter a number : fff\n",
      "Not Valid Integer\n"
     ]
    }
   ],
   "source": [
    "while True:\n",
    "    try:\n",
    "        a=1\n",
    "        num = int(input('Enter a number : '))\n",
    "        for i in range(num):\n",
    "            a*=(i+1)\n",
    "        print(\"%d!=%d\"%(num,a))\n",
    "    except :\n",
    "        print(\"Not Valid Integer\")"
   ]
  },
  {
   "cell_type": "markdown",
   "metadata": {},
   "source": []
  },
  {
   "cell_type": "code",
   "execution_count": null,
   "metadata": {},
   "outputs": [],
   "source": []
  }
 ],
 "metadata": {
  "kernelspec": {
   "display_name": "Python 3",
   "language": "python",
   "name": "python3"
  },
  "language_info": {
   "codemirror_mode": {
    "name": "ipython",
    "version": 3
   },
   "file_extension": ".py",
   "mimetype": "text/x-python",
   "name": "python",
   "nbconvert_exporter": "python",
   "pygments_lexer": "ipython3",
   "version": "3.7.1"
  }
 },
 "nbformat": 4,
 "nbformat_minor": 2
}
