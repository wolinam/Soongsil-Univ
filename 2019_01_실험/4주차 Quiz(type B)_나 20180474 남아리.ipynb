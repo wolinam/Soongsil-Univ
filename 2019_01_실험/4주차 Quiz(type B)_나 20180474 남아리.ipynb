{
 "cells": [
  {
   "cell_type": "markdown",
   "metadata": {},
   "source": [
    "## 과제 제출방법\n",
    "1. Jupyter name을 변경 시켜 주십시요. (__주차과제 -> 분반 학번 이름)\n",
    "2. 아래 Hash값을 생성시키는 cell을 실행시키도록 합니다.\n",
    "3. 각 과제 밑에 있는 code cell에서 program을 입력한 후에 이를 실행시킵니다.\n",
    "4. 모든 과제를 완료한 후에는 File -> Download As -> Notebook(.ipynb)로 저장한 후, 이 file을 smart campus에 upload바랍니다."
   ]
  },
  {
   "cell_type": "markdown",
   "metadata": {},
   "source": [
    "##  *** 아래 Cell은 각 PC마다 다른 숫자(Hash값)를 생성시키는 Program입니다.***\n",
    "실행 ( Run ) 시켜 주십시요..."
   ]
  },
  {
   "cell_type": "code",
   "execution_count": 1,
   "metadata": {},
   "outputs": [
    {
     "name": "stdout",
     "output_type": "stream",
     "text": [
      "85468554\n",
      "MAC is  57606938383239\n",
      "IP is  127.0.1.1\n"
     ]
    }
   ],
   "source": [
    "import socket\n",
    "IP_addr = socket.gethostbyname(socket.gethostname())\n",
    "from uuid import getnode as get_mac\n",
    "mac = get_mac()\n",
    "mac_addr=str(mac)\n",
    "addr=IP_addr+mac_addr\n",
    "import hashlib\n",
    "hash_object= hashlib.sha1(addr.encode('utf-8'))\n",
    "signature = int(hash_object.hexdigest(), 16) % 10**8\n",
    "print(str(signature))\n",
    "print('MAC is ' ,mac_addr)\n",
    "print('IP is ', IP_addr)"
   ]
  },
  {
   "cell_type": "markdown",
   "metadata": {},
   "source": [
    "### Quiz 1\n",
    "#### 아래와 같은 dictionary d에 프로그램을 하여 아래와 같은 결과가 나오도록 하시요...\n",
    "#### d = {'user' : 'bozo', 'p' : 1234, 'i' : 34 }\n",
    "#### 결과 : [('user', 'bozo'), ('i', 34)]"
   ]
  },
  {
   "cell_type": "code",
   "execution_count": 7,
   "metadata": {},
   "outputs": [
    {
     "name": "stdout",
     "output_type": "stream",
     "text": [
      "[('user', 'bozo'), ('i', 34)]\n"
     ]
    }
   ],
   "source": [
    "d = {'user':'bozo','p':1234,'i':34}\n",
    "del d['p']\n",
    "print(list(d.items()))"
   ]
  },
  {
   "cell_type": "markdown",
   "metadata": {},
   "source": [
    "### Quiz 2 (총 3 점)\n",
    "#### 아래 List1에서 first name만 뽑아서 결과와 같은 list를 만드는  program하시요...\n",
    "#### list1  = [{'first' : 'Paul', 'last' : 'McCartney'}, {'first' : 'John', 'last' : 'Lennon'}, {'first' : 'Ringo', 'last' : 'Starr'}, {'first' : 'George', 'last' : 'Harrison'}, {'first' : 'Bob', 'last' : 'Smith'}] \n",
    "#### 결과 \n",
    "#### ['Paul', 'John', 'Ringo', 'George', 'Bob']\n",
    "#### Hint : 초기에 empty list를 만들고  for  loop를 사용해서   append( ) method를 사용하시요..."
   ]
  },
  {
   "cell_type": "code",
   "execution_count": 5,
   "metadata": {},
   "outputs": [
    {
     "name": "stdout",
     "output_type": "stream",
     "text": [
      "['Paul', 'John', 'Ringo', 'George', 'Bob']\n"
     ]
    }
   ],
   "source": [
    "list1 = [{'first':'Paul','last':'McCartney'},{'first':'John','last':'Lennon'},{'first':'Ringo','last':'Starr'},{'first':'George','last':'Harrison'},{'first':'Bob','last':'Smith'}]\n",
    "list2 = []\n",
    "for i in range(len(list1)):\n",
    "    list2.append(list1[i]['first'])\n",
    "print(list2)"
   ]
  },
  {
   "cell_type": "code",
   "execution_count": null,
   "metadata": {},
   "outputs": [],
   "source": []
  }
 ],
 "metadata": {
  "kernelspec": {
   "display_name": "Python 3",
   "language": "python",
   "name": "python3"
  },
  "language_info": {
   "codemirror_mode": {
    "name": "ipython",
    "version": 3
   },
   "file_extension": ".py",
   "mimetype": "text/x-python",
   "name": "python",
   "nbconvert_exporter": "python",
   "pygments_lexer": "ipython3",
   "version": "3.6.4"
  }
 },
 "nbformat": 4,
 "nbformat_minor": 2
}
