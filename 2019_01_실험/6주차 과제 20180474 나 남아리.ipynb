{
 "cells": [
  {
   "cell_type": "markdown",
   "metadata": {},
   "source": [
    "##  아래 Cell은 각 PC마다 다른 숫자(Hash값)를 생성시키는 Program입니다.\n",
    "### 실행 ( Run ) 시켜 주십시요..."
   ]
  },
  {
   "cell_type": "code",
   "execution_count": 1,
   "metadata": {},
   "outputs": [
    {
     "name": "stdout",
     "output_type": "stream",
     "text": [
      "89539078\n"
     ]
    }
   ],
   "source": [
    "from uuid import getnode as get_mac\n",
    "mac = get_mac()\n",
    "mac_addr=str(mac)\n",
    "import hashlib\n",
    "hash_object= hashlib.sha1(mac_addr.encode('utf-8'))\n",
    "signature = int(hash_object.hexdigest(), 16) % 10**8\n",
    "print(str(signature))"
   ]
  },
  {
   "cell_type": "markdown",
   "metadata": {},
   "source": [
    "### 과제 1\n",
    "print를 수행한 후에 아래와 같은 결과가 나오게 된 것에 대해서 설명하시요...\n",
    "-  d.kind와 e.kind는 같은 값이 나오고,  d.name과 e.name은 다른 값이 나오는 이유"
   ]
  },
  {
   "cell_type": "code",
   "execution_count": 2,
   "metadata": {},
   "outputs": [
    {
     "name": "stdout",
     "output_type": "stream",
     "text": [
      "canine\n",
      "canine\n",
      "Fido\n",
      "Buddy\n"
     ]
    }
   ],
   "source": [
    "class Dog:\n",
    "  kind = 'canine'\n",
    "  def __init__(self, name):\n",
    "    self.name = name\n",
    "\n",
    "d=Dog('Fido')\n",
    "e=Dog('Buddy')\n",
    "print(d.kind)\n",
    "print(e.kind)\n",
    "print(d.name)\n",
    "print(e.name)"
   ]
  },
  {
   "cell_type": "markdown",
   "metadata": {},
   "source": [
    "< 답변 >\n",
    "\n",
    "\n"
   ]
  },
  {
   "cell_type": "code",
   "execution_count": null,
   "metadata": {},
   "outputs": [],
   "source": [
    "class로 dog의 kind는 'canine'이라고 정의했기때문에(attribute)\n",
    "d.kind와 e.kind는 같은 값이 나온다.\n",
    "class name과 ()를 사용하여 class를 호출하고 그 결과를 d와 e에 assign 했는데,\n",
    "첫번째 것은 항상 자신을 가리킨다.\n",
    "그리고 class가 호출될 때 __init__()가 실행되어 data atrributes에 대해\n",
    "초기화가 이루어진다.\n",
    "그래서 d.name 은 Fido, e.name 은 Buddy를 가리킨다."
   ]
  },
  {
   "cell_type": "markdown",
   "metadata": {},
   "source": [
    "### 과제 2\n",
    "아래에서 예제1과 예제2가 다른 결과를 나타냅니다. 이렇게 다른 결과가 나오게 되는 것에  대해서 설명하시요.."
   ]
  },
  {
   "cell_type": "markdown",
   "metadata": {},
   "source": [
    "#### 예제 1"
   ]
  },
  {
   "cell_type": "code",
   "execution_count": 3,
   "metadata": {},
   "outputs": [
    {
     "name": "stdout",
     "output_type": "stream",
     "text": [
      "['roll over', 'play dead']\n",
      "['roll over', 'play dead']\n"
     ]
    }
   ],
   "source": [
    "class Dog:\n",
    "  tricks = []\n",
    "  def __init__(self, name):\n",
    "    self.name = name\n",
    "  def add_trick(self, trick):\n",
    "    self.tricks.append(trick)\n",
    "\n",
    "d = Dog('Fido')\n",
    "e = Dog('Buddy')\n",
    "d.add_trick('roll over')\n",
    "e.add_trick('play dead')\n",
    "print(d.tricks)\n",
    "print(e.tricks)"
   ]
  },
  {
   "cell_type": "markdown",
   "metadata": {},
   "source": [
    "#### 예제 2"
   ]
  },
  {
   "cell_type": "code",
   "execution_count": 4,
   "metadata": {},
   "outputs": [
    {
     "name": "stdout",
     "output_type": "stream",
     "text": [
      "['roll over']\n",
      "['play dead']\n"
     ]
    }
   ],
   "source": [
    "class Dog:\n",
    "  def __init__(self, name):\n",
    "    self.name = name\n",
    "    self.tricks = []\n",
    "  def add_trick(self, trick):\n",
    "    self.tricks.append(trick)\n",
    "\n",
    "d = Dog('Fido')\n",
    "e = Dog('Buddy')\n",
    "d.add_trick('roll over')\n",
    "e.add_trick('play dead')\n",
    "print(d.tricks)\n",
    "print(e.tricks)"
   ]
  },
  {
   "cell_type": "markdown",
   "metadata": {},
   "source": [
    "<답변>\n",
    "\n",
    "\n",
    "\n"
   ]
  },
  {
   "cell_type": "code",
   "execution_count": null,
   "metadata": {},
   "outputs": [],
   "source": [
    "예제2의 self.tricks는 첫번째 instance 실행 후 초기화되어 다음인 play dead만 출력되지만\n",
    "예제1의 tricks는 def의 밖에 선언되어 있기 때문에 초기화되지 않는다.\n",
    "그래서 초기화되지 않고 그대로 추가되어 roll over와 play dead가 출력된다."
   ]
  },
  {
   "cell_type": "markdown",
   "metadata": {},
   "source": [
    "### 과제 3\n",
    "- 아래에서 z.display()를 했을 때, 42가 print되지 않고 Current value = \"42\" 로 print되는 이유를 설명하시요...\n"
   ]
  },
  {
   "cell_type": "code",
   "execution_count": 5,
   "metadata": {},
   "outputs": [
    {
     "name": "stdout",
     "output_type": "stream",
     "text": [
      "Current value = \"42\"\n"
     ]
    }
   ],
   "source": [
    "class FirstClass:\n",
    "  def setdata(self, value):\n",
    "    self.data = value\n",
    "  def display(self):\n",
    "    print(self.data)\n",
    "\n",
    "class SecondClass(FirstClass):\n",
    "  def display(self):\n",
    "    print('Current value = \"%s\"' %self.data)\n",
    "\n",
    "\n",
    "z = SecondClass()\n",
    "z.setdata(42)\n",
    "z.display()"
   ]
  },
  {
   "cell_type": "markdown",
   "metadata": {},
   "source": [
    "<답변> \n",
    "\n",
    "\n"
   ]
  },
  {
   "cell_type": "code",
   "execution_count": null,
   "metadata": {},
   "outputs": [],
   "source": [
    "값만 출력하도록 정의된 것은 FirstClass이고 FirstClass의 값을 받아\n",
    "'Current value = %s'라고 출력하도록 정의된 것은 SecondClass이다.\n",
    "그런데 z는 FirstClass가 아닌 SecondClass로 선언되어 있다.\n",
    "그러므로 42가 출력되지 않고 Current value = 42라고 출력된다."
   ]
  }
 ],
 "metadata": {
  "kernelspec": {
   "display_name": "Python 3",
   "language": "python",
   "name": "python3"
  },
  "language_info": {
   "codemirror_mode": {
    "name": "ipython",
    "version": 3
   },
   "file_extension": ".py",
   "mimetype": "text/x-python",
   "name": "python",
   "nbconvert_exporter": "python",
   "pygments_lexer": "ipython3",
   "version": "3.7.3"
  }
 },
 "nbformat": 4,
 "nbformat_minor": 2
}
