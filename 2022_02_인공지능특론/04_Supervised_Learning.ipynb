{
 "cells": [
  {
   "cell_type": "markdown",
   "id": "b8571ad3",
   "metadata": {},
   "source": [
    "## pip install"
   ]
  },
  {
   "cell_type": "code",
   "execution_count": null,
   "id": "21a119c3",
   "metadata": {},
   "outputs": [],
   "source": []
  },
  {
   "cell_type": "markdown",
   "id": "b24c91ea",
   "metadata": {},
   "source": [
    "## 4-1. 데이터 주도 학습\n",
    "[깃허브](https://github.com/WegraLee/deep-learning-from-scratch/tree/master/ch04)\n",
    "- 퍼셉트론 ===> 신경망\n",
    "- 입력층, 은닉층(hidden layer), 출력층\n",
    "<img src=\"https://upload.wikimedia.org/wikipedia/commons/thumb/9/99/Neural_network_example.svg/640px-Neural_network_example.svg.png\" width=\"200\"/>"
   ]
  },
  {
   "cell_type": "code",
   "execution_count": null,
   "id": "c07e163b",
   "metadata": {},
   "outputs": [],
   "source": []
  }
 ],
 "metadata": {
  "kernelspec": {
   "display_name": "Python 3 (ipykernel)",
   "language": "python",
   "name": "python3"
  },
  "language_info": {
   "codemirror_mode": {
    "name": "ipython",
    "version": 3
   },
   "file_extension": ".py",
   "mimetype": "text/x-python",
   "name": "python",
   "nbconvert_exporter": "python",
   "pygments_lexer": "ipython3",
   "version": "3.9.7"
  }
 },
 "nbformat": 4,
 "nbformat_minor": 5
}
